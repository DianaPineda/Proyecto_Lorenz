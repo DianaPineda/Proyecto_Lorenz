{
 "cells": [
  {
   "cell_type": "markdown",
   "metadata": {},
   "source": [
    "# Dínamica no lineal y caos de sistemas físicos"
   ]
  },
  {
   "cell_type": "markdown",
   "metadata": {},
   "source": [
    "## Introducción"
   ]
  },
  {
   "cell_type": "markdown",
   "metadata": {},
   "source": [
    "Comenzamos estableciendo definiciones y conceptos que serán de utilidad a lo largo del proyecto."
   ]
  },
  {
   "cell_type": "markdown",
   "metadata": {},
   "source": [
    "**DEFINICIÓN:** Un **sistema físico** denota un arreglo de puntos en el espacio y en el tiempo que cumplen ciertas propiedades. A saber cumplen tener asociados campos escaleres: masa, carga, densidad, temperatura, etc; ó campos vectoriales ya sea vectores de campo electromágnetico, gravitacional, campo de velocidades, vectores de fuerza, torca, etc.    \n",
    "\n",
    "**DEFINICIÓN:** En Física conocer **la dinámica de un sistema compuesto por particulas**, significa conocer las posiciones y las velocidades en cada punto del espacio, en cada instante de tiempo.\n",
    "\n",
    "**DEFINICIÓN:** El **Espacio fase de una partícula** denota al lugar geometrico determinado por las posiciones espaciales y coordenadas de las velocidades, para un intervalo de tiempo determinado.\n",
    "\n",
    "**CONCEPTO:** Decimos que un sistema de partículas experimenta una **Dinámica no lineal** si las relaciones que describen el movimiento de las partículas son no lineales en el dominio de definición.\n",
    "\n",
    "**CONCEPTO:** Cuando hablemos de **Caos** en un cierto dominino nos referimos a que dadas al menos dos configuraciones iniciales arbitrariamente cercanas, las cuales evolucionan en el tiempo mediante la misma regla de correspondencia, describiendo trayectorias \"tan diferentes\" que sea imposible determinar el grado de distinguibilidad en tiempos posteriores.   \n",
    "\n",
    "\n",
    "\n",
    "\n",
    "\n"
   ]
  },
  {
   "cell_type": "markdown",
   "metadata": {},
   "source": [
    "****Definiciones Párticulares, para describir el modelo de Lorenz... ** **\n",
    "\n",
    "** CONCEPTO: ** Al hablar de un **atractor** nos referimos... "
   ]
  },
  {
   "cell_type": "markdown",
   "metadata": {},
   "source": [
    " ### Un  poco de historia"
   ]
  },
  {
   "cell_type": "markdown",
   "metadata": {},
   "source": [
    "En 1963 Lorenz, en un artículo describió una familia tridimensional de tres ecuaciones diferenciales. Al solucionarlas directamente en una computadora mostraban soluciones extremamente complicadas. \n",
    "\n",
    "Lorenz buscaba una conjunto tridimensional de ecuaciones diferenciales que podrían modelar el impredecible comportamiento asociado al clima. Estas ecuaciones se derivan de la ecuación de Navier-Stokes de fluidos. \n",
    "\n"
   ]
  },
  {
   "cell_type": "markdown",
   "metadata": {
    "collapsed": true
   },
   "source": [
    "### Desarrollo segun la tesis de Gpe Munguia (*Universidad de Sonora*)"
   ]
  },
  {
   "cell_type": "markdown",
   "metadata": {},
   "source": [
    "En palabras del matemático ruso V. Arnold, existen dos maneras de subvertir un proceso determinista:\n",
    "\n",
    "* El azar: La indeterminación de un estado en relación a los que le han precedido y los que le sucederán.\n",
    "* El Caos: A pesar de que un sistema este determinado, esté no pueda ser objeto de predicciones debido a la \"Sensibilidad a las condiciones Iniciales\""
   ]
  },
  {
   "cell_type": "markdown",
   "metadata": {},
   "source": [
    "La representación de los sistemas dinámicos se lleva a cabo en un espacio denominado espacio de fases en el que cada punto define el estado y cada trayectoria la evolución del sistema. Podemos dividir los sistemas dinámicos en Conservativos y en Disipativos según se conserve o nó el volumen formado por una serie de puntos que evolucionana a un mismo tiempo."
   ]
  },
  {
   "cell_type": "markdown",
   "metadata": {},
   "source": [
    "Los sistemas disipativos suelen contar con \"atractores\" que son zonas en el espacio de las fases que \"atraen\" las trayectorias que pasan por sus proximidades, contrayendo las areas en el espacio de las fases y haciendo converger las trayectorias, de manera que dichos \"atractores\" representan el comportamiento asintótico del sistema, es decir el comportamiento del sistema a largo plazo. Los atractores clasicos son: "
   ]
  },
  {
   "cell_type": "markdown",
   "metadata": {},
   "source": [
    "* Un punto fijo, que señala el estado de equilibrio final del sistema"
   ]
  },
  {
   "cell_type": "markdown",
   "metadata": {},
   "source": [
    "* Una orbita periódica que señala que la configuración del sistema evoluciona de forma periódica repitiendo sus estados."
   ]
  },
  {
   "cell_type": "markdown",
   "metadata": {},
   "source": [
    "* Una orbita cuasi-periódica que da lugar a una figura toroidal en el espacio de las fases."
   ]
  },
  {
   "cell_type": "markdown",
   "metadata": {},
   "source": [
    "* Un atractor extraño, son atractores cuya sensibilidad a las condiciones iniciales impide la predictibilidad a pesar del determinismo riguroso debido a que las trayectorias próximas divergen rápidamente, cuya no periodicidad impide que las curvas se cierren sobre si mismas impidiendo la predicción, cuya fráctalidad exhibe una invariancia a través de distintas escalas."
   ]
  },
  {
   "cell_type": "markdown",
   "metadata": {
    "collapsed": true
   },
   "source": [
    "#### Atractores extraños "
   ]
  },
  {
   "cell_type": "markdown",
   "metadata": {},
   "source": [
    "Los atractores extraños son ejemplos de caos determinista obedecen a dos constricciones: \n",
    "\n",
    "* La divergencia de las trayectorias.\n",
    "* Confinamiento en un espacio determinado donde se reagrupan constantemente sin cortarse. "
   ]
  },
  {
   "cell_type": "markdown",
   "metadata": {},
   "source": [
    "Ambas condiciones son propiedades que solo pueden cumplirse en espacios de al menos 3 dimensiones, pues dadas dos trayectorias distintas, pedir que las trayectorias se separen equivale a un estiramiento del atractor, mientras el confinamiento implica un reagrupamiento constante sin que las trayectorias lleguen a cortarse. "
   ]
  },
  {
   "cell_type": "markdown",
   "metadata": {},
   "source": [
    "%%%%%%%%%%%%%%%%%%%%%%%%%%%%%%%%%%%%%%%%%%%%%%%%%%%%%%%%%%%%%%%%%%%%%%%%%%%%%%%"
   ]
  },
  {
   "cell_type": "markdown",
   "metadata": {},
   "source": [
    "_ Demostración Eurística _\n",
    "\n",
    "* ** Caso 1: ** Debido a que en una dimensión dos trayectorias confinadas siempre se cruzan ese caso es trivial.\n",
    "\n",
    "* ** Caso 2: ** Supongamos un sistema de dos dimensiones. \n",
    "\n",
    "Dado que dos trayectorias distintas nunca se cruzan entre ellas, ni con ellas mismas, podemos dividir el plano en dos secciones, la zona interna entre las trayectorias, que la definimos trasando una linea que une las trayectorias punto a punto en el tiempo, y la zona externa a las trayectorias. Ahora notemos que es posible cácular el area entre las trayectorias.\n",
    "\n",
    "Por otro lado debido que a que las trayectorias estan confinadas, cada vez que dejemos correr el tiempo, el area fuera de las trayectorias se va reduciendo, ahora bien esta reducción debido a la divergencia de las trayectorias no puede converger a un valor pues eso nos garantizaría que las trayectorias finalmente convergen, por lo tanto el espacio de confinamiento deberia tener un area infinita, $\"!\"$ lo cual es contradictorio con la definición de atractor extraño, y por lo tanto no pueden existir atractores extraños en dos dimensíones. "
   ]
  },
  {
   "cell_type": "markdown",
   "metadata": {},
   "source": [
    "%%%%%%%%%%%%%%%%%%%%%%%%%%%%%%%%%%%%%%%%%%%%%%%%%%%%%%%%%%%%%%%%%%%%%%%%%%%%%%%"
   ]
  },
  {
   "cell_type": "markdown",
   "metadata": {},
   "source": [
    "Lo predecible y lo impredecible juegan roles que se acompañan mutuamente, permitiendonos observar como aparece orden a partir del caos, y como un comportamiento ordenado en un cierto momento cambia rádicalmente a un comportamiento impredecible."
   ]
  },
  {
   "cell_type": "markdown",
   "metadata": {},
   "source": [
    "Debido a lo complicado que resultan los comportamientos impredecibles, estudiar el intercambio de roles entre lo predecible e impredicible, consiste en describir como comportamientos predecibles se transforman en sistemas impredecibles, permitiendo en el camino notar caracteristicas que llevan un tipo de sistema hacia el otro."
   ]
  },
  {
   "cell_type": "markdown",
   "metadata": {},
   "source": [
    "Como vimos las condiciones se ser no lineal y de al menos 3 variables, son necesarias para poder obtener un atractor extraño, y existen tres caminos principales que desestabilizan los regímenes periodicos de un sistema:\n",
    "\n",
    "* La duplicación de periodo\n",
    "* Intermitencia\n",
    "* Cuasi-Periodicidad"
   ]
  },
  {
   "cell_type": "code",
   "execution_count": null,
   "metadata": {
    "collapsed": true
   },
   "outputs": [],
   "source": []
  }
 ],
 "metadata": {
  "kernelspec": {
   "display_name": "Julia 0.3.11",
   "language": "julia",
   "name": "julia-0.3"
  },
  "language_info": {
   "name": "julia",
   "version": "0.3.11"
  }
 },
 "nbformat": 4,
 "nbformat_minor": 0
}
