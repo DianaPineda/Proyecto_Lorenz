{
 "cells": [
  {
   "cell_type": "markdown",
   "metadata": {},
   "source": [
    "# Atractor de Lorenz\n",
    "\n",
    "## Diana Pineda Vázquez,  Ortiz Solano Carlos Gael\n",
    "\n",
    "### Temas Selectos de Físca Computacional"
   ]
  },
  {
   "cell_type": "markdown",
   "metadata": {
    "collapsed": true
   },
   "source": [
    "## Antecedentes históricos\n",
    "\n",
    "En 1963 Lorenz, en un artículo describió una familia tridimensional de tres ecuaciones diferenciales. Al solucionarlas directamente en una computadora mostraban soluciones extremamente complicadas. \n",
    "\n",
    "Lorenz buscaba una conjunto tridimensional de ecuaciones diferenciales que podrían modelar el impredecible comportamiento asociado al clima. Estas ecuaciones fueron derevidas de una modelo de convección de fluidos. \n",
    "\n",
    "Originalmente Lorenz considero un fluido bidimensional (en una celda) a la cual se le aplicó calor por la parte inferior y enfriado por la parte superior."
   ]
  },
  {
   "cell_type": "markdown",
   "metadata": {},
   "source": [
    "## Teoría\n",
    "\n",
    "El atractor de Lorenz es un sistema dinámico determinista tridimensional, derivado de las ecuaciones simplificadas de las trayectorias de convección en la atmósfera terrestre. \n",
    "\n",
    "\n",
    "Está descrto por un sistema de 3 ecuaciones diferenciales no lineales acopladas:\n",
    "\n",
    "\n",
    "$$\\dot x = \\sigma (y - x)$$\n",
    "\n",
    "$$\\dot y = x(\\rho - z) - y$$\n",
    "\n",
    "$$\\dot z = xy - bz$$\n",
    "\n",
    "\n",
    "con $\\sigma, \\rho, b > 0$ y son parámetros que indican:\n",
    "\n",
    "- $\\sigma$ : Número de Prandtl, es proporcional al cociente entre la difusividad de momento (viscosidad) y la difusividad térmica. \n",
    "\n",
    "- $\\rho$ : Número de Rayleigh/Número de Rayleigh crítico. Esta asociado a la transferencia de calor en el interior del fluido. Cuando el número de Rayleigh está por debajo de un cierto valor crítico, la transferencia de calor se produce principalmente por conducción; cuando está por encima del valor crítico, la transferencia de calor se produce principalmente por convección.\n",
    "\n",
    "- $b$ : Relacionada con el tamaño del sistema\n",
    "\n",
    "\n",
    "En este modelo, $x$ es la velocidad de movimiento convectivo, $y$ es la variación de la temperatura horizontal y $z$ la variación de la temperatura vertical."
   ]
  },
  {
   "cell_type": "markdown",
   "metadata": {},
   "source": [
    "## Objetivo\n",
    "\n",
    "En este proyecto se busca reproducir y analizar el atractor de Lorenz utilzando el lenguaje Julia y la solución de ecuaciones diferenciales por series de Taylor\n"
   ]
  },
  {
   "cell_type": "markdown",
   "metadata": {},
   "source": [
    "## Desarrollo"
   ]
  },
  {
   "cell_type": "markdown",
   "metadata": {},
   "source": [
    "Lorenz consideros cierto valores de parámetros que mostraban  en el sistema de ecuaciones un comportamiento caótico:"
   ]
  },
  {
   "cell_type": "code",
   "execution_count": 2,
   "metadata": {
    "collapsed": false
   },
   "outputs": [
    {
     "data": {
      "text/plain": [
       "2.6666666666666665"
      ]
     },
     "execution_count": 2,
     "metadata": {},
     "output_type": "execute_result"
    }
   ],
   "source": [
    "#introducimos los parametros originales que Lorenz utilzó en la evaluación del clima. Luego serán variados.\n",
    "s = 10\n",
    "r = 28\n",
    "b = 8./3"
   ]
  },
  {
   "cell_type": "markdown",
   "metadata": {},
   "source": [
    "Ahora debemos expresar las ecuaciones de Lorenz definiendo el sistema de la siguiente forma:"
   ]
  },
  {
   "cell_type": "code",
   "execution_count": 5,
   "metadata": {
    "collapsed": false
   },
   "outputs": [
    {
     "data": {
      "text/plain": [
       "Lorenz (generic function with 1 method)"
      ]
     },
     "execution_count": 5,
     "metadata": {},
     "output_type": "execute_result"
    }
   ],
   "source": [
    "#Definimos a las ecuaciones diferenciales de Lorenz como una función:\n",
    "Lorenz(w, t) = [s*(w[1] - w[0]), w[0]*(r - w[2])- w[1], w[0]*w[1]-b*w[2]]\n",
    "\n",
    "# w: condición inicial (coordenadas)\n",
    "# (w[0], w[1], w[2]): vector solución en (x, y, z)"
   ]
  },
  {
   "cell_type": "markdown",
   "metadata": {},
   "source": [
    "Ahora definamos funciones para graficar la evolución de $(x, y, z)$ respecto al tiempo (`PlotTiempo`) y otra función para graficar el espacio fase (`EspacioFase`):"
   ]
  },
  {
   "cell_type": "code",
   "execution_count": 7,
   "metadata": {
    "collapsed": false
   },
   "outputs": [
    {
     "ename": "LoadError",
     "evalue": "syntax: invalid interpolation syntax: \"\"\"\nwhile loading In[7], in expression starting on line 7",
     "output_type": "error",
     "traceback": [
      "syntax: invalid interpolation syntax: \"\"\"\nwhile loading In[7], in expression starting on line 7",
      ""
     ]
    }
   ],
   "source": [
    "function PlotTiempo(w, s, r, b)\n",
    "    figure() \n",
    "    fig, ax = subplots()\n",
    "    plt.plot(tiempo,w[:,0], label = 'X', lw=0.5) \n",
    "    plt.plot(tiempo,w[:,1], label = 'Y', lw=0.5) \n",
    "    plt.plot(tiempo,w[:,2], label = 'Z', lw=0.5) \n",
    "    plt.title(\"Evolucion con el tiempo $s = %s, r = %s, b=%s$\" % (s, r, b))\n",
    "    ax.legend()\n",
    "    show() \n",
    "end"
   ]
  },
  {
   "cell_type": "code",
   "execution_count": null,
   "metadata": {
    "collapsed": true
   },
   "outputs": [],
   "source": []
  }
 ],
 "metadata": {
  "kernelspec": {
   "display_name": "Julia 0.3.11",
   "language": "julia",
   "name": "julia-0.3"
  },
  "language_info": {
   "name": "julia",
   "version": "0.3.11"
  }
 },
 "nbformat": 4,
 "nbformat_minor": 0
}
